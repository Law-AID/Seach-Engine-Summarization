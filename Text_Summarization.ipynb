{
  "nbformat": 4,
  "nbformat_minor": 0,
  "metadata": {
    "colab": {
      "name": "Text_Summarization",
      "provenance": []
    },
    "kernelspec": {
      "name": "python3",
      "display_name": "Python 3"
    },
    "language_info": {
      "name": "python"
    }
  },
  "cells": [
    {
      "cell_type": "code",
      "source": [
        "import nltk\n",
        "nltk.download('punkt')\n",
        "nltk.download('stopwords')"
      ],
      "metadata": {
        "colab": {
          "base_uri": "https://localhost:8080/"
        },
        "id": "iNPc2Yy025BV",
        "outputId": "e999d701-7dbf-4c90-8d2a-b824ef6e2960"
      },
      "execution_count": 1,
      "outputs": [
        {
          "output_type": "stream",
          "name": "stdout",
          "text": [
            "[nltk_data] Downloading package punkt to /root/nltk_data...\n",
            "[nltk_data]   Unzipping tokenizers/punkt.zip.\n",
            "[nltk_data] Downloading package stopwords to /root/nltk_data...\n",
            "[nltk_data]   Unzipping corpora/stopwords.zip.\n"
          ]
        },
        {
          "output_type": "execute_result",
          "data": {
            "text/plain": [
              "True"
            ]
          },
          "metadata": {},
          "execution_count": 1
        }
      ]
    },
    {
      "cell_type": "code",
      "source": [
        "# importing libraries\n",
        "\n",
        "from nltk.corpus import stopwords\n",
        "from nltk.tokenize import word_tokenize, sent_tokenize"
      ],
      "metadata": {
        "id": "fbxFWc3VmCHT"
      },
      "execution_count": 2,
      "outputs": []
    },
    {
      "cell_type": "code",
      "source": [
        "# Input text - to summarize\n",
        "#text = \" The Taj Mahal is located on the right bank of the Yamuna River in a vast Mughal garden that encompasses nearly 17 hectares, in the Agra District in Uttar Pradesh. It was built by Mughal Emperor Shah Jahan in memory of his wife Mumtaz Mahal with construction starting in 1632 AD and completed in 1648 AD, with the mosque, the guest house and the main gateway on the south, the outer courtyard and its cloisters were added subsequently and completed in 1653 AD. The existence of several historical and Quaranic inscriptions in Arabic script have facilitated setting the chronology of Taj Mahal. For its construction, masons, stone-cutters, inlayers, carvers, painters, calligraphers, dome builders and other artisans were requisitioned from the whole of the empire and also from the Central Asia and Iran. Ustad-Ahmad Lahori was the main architect of the Taj Mahal.The Taj Mahal is considered to be the greatest architectural achievement in the whole range of Indo-Islamic architecture. Its recognised architectonic beauty has a rhythmic combination of solids and voids, concave and convex and light shadow; such as arches and domes further increases the aesthetic aspect. The colour combination of lush green scape reddish pathway and blue sky over it show cases the monument in ever changing tints and moods. The relief work in marble and inlay with precious and semi precious stones make it a monument apart. \"\n",
        "f = open('text.txt')\n",
        "text = f.read()"
      ],
      "metadata": {
        "id": "7S6zXj5Xn4kS"
      },
      "execution_count": 3,
      "outputs": []
    },
    {
      "cell_type": "code",
      "source": [
        "\n",
        "# Tokenizing the text\n",
        "stopWords = set(stopwords.words(\"english\"))\n",
        "words = word_tokenize(text)\n",
        "\n",
        "# Creating a frequency table to keep the\n",
        "# score of each word\n",
        "\n",
        "freqTable = dict()\n",
        "for word in words:\n",
        "\tword = word.lower()\n",
        "\tif word in stopWords:\n",
        "\t\tcontinue\n",
        "\tif word in freqTable:\n",
        "\t\tfreqTable[word] += 1\n",
        "\telse:\n",
        "\t\tfreqTable[word] = 1\n",
        "\n",
        "# Creating a dictionary to keep the score\n",
        "# of each sentence\n",
        "sentences = sent_tokenize(text)\n",
        "sentenceValue = dict()\n",
        "\n",
        "for sentence in sentences:\n",
        "\tfor word, freq in freqTable.items():\n",
        "\t\tif word in sentence.lower():\n",
        "\t\t\tif sentence in sentenceValue:\n",
        "\t\t\t\tsentenceValue[sentence] += freq\n",
        "\t\t\telse:\n",
        "\t\t\t\tsentenceValue[sentence] = freq\n",
        "\n",
        "\n",
        "\n",
        "sumValues = 0\n",
        "for sentence in sentenceValue:\n",
        "\tsumValues += sentenceValue[sentence]\n",
        "\n",
        "# Average value of a sentence from the original text\n",
        "\n",
        "average = int(sumValues / len(sentenceValue))\n",
        "\n",
        "# Storing sentences into our summary.\n",
        "summary = ''\n",
        "for sentence in sentences:\n",
        "\tif (sentence in sentenceValue) and (sentenceValue[sentence] > (1.2 * average)):\n",
        "\t\tsummary += \" \" + sentence\n",
        "print(summary)\n"
      ],
      "metadata": {
        "colab": {
          "base_uri": "https://localhost:8080/"
        },
        "id": "UA7LZ_j525EN",
        "outputId": "4baa9ecc-54a1-40b2-d5e7-5a0a30c9c392"
      },
      "execution_count": 4,
      "outputs": [
        {
          "output_type": "stream",
          "name": "stdout",
          "text": [
            " Name and territory of the Union.—(1) India, that is Bharat, shall be a Union of States. (3) The territory of India shall comprise—\n",
            "(a) the territories of the States;\n",
            "(b) the Union territories specified in the First Schedule; and\n",
            "(c) such other territories as may be acquired. Formation of new States and alteration of areas, boundaries or names of existing States.—\n",
            "Parliament may by law—\n",
            "(a) form a new State by separation of territory from any State or by uniting two or more States or\n",
            "parts of States or by uniting any territory to a part of any State;\n",
            "(b) increase the area of any State;\n",
            "(c) diminish the area of any State;\n",
            "(d) alter the boundaries of any State;\n",
            "(e) alter the name of any State:\n",
            "Provided that no Bill for the purpose shall be introduced in either House of Parliament except on the\n",
            "recommendation of the President and unless, where the proposal contained in the Bill affects the area,\n",
            "boundaries or name of any of the States, the Bill has been referred by the President to the Legislature of\n",
            "that State for expressing its views thereon within such period as may be specified in the reference or\n",
            "within such further period as the President may allow and the period so specified or allowed has expired. Explanation I.—In this article, in clauses (a) to (e), ―State‖ includes a Union territory, but in the\n",
            "proviso, ―State‖ does not include a Union territory. Laws made under articles 2 and 3 to provide for the amendment of the First and the Fourth\n",
            "Schedules and supplemental, incidental and consequential matters.—(1) Any law referred to in\n",
            "article 2 or article 3 shall contain such provisions for the amendment of the First Schedule and the Fourth\n",
            "Schedule as may be necessary to give effect to the provisions of the law and may also contain such\n",
            "supplemental, incidental and consequential provisions (including provisions as to representation in\n",
            "Parliament and in the Legislature or Legislatures of the State or States affected by such law) as Parliament\n",
            "may deem necessary. Citizenship at the commencement of the Constitution.—At the commencement of this\n",
            "Constitution, every person who has his domicile in the territory of India and—\n",
            "(a) who was born in the territory of India; or\n",
            "(b) either of whose parents was born in the territory of India; or\n",
            "(c) who has been ordinarily resident in the territory of India for not less than five years\n",
            "immediately preceding such commencement,\n",
            "shall be a citizen of India. Rights of citizenship of certain persons who have migrated to India from Pakistan.—\n",
            "Notwithstanding anything in article 5, a person who has migrated to the territory of India from the\n",
            "territory now included in Pakistan shall be deemed to be a citizen of India at the commencement of this\n",
            "Constitution if—\n",
            "(a) he or either of his parents or any of his grand-parents was born in India as defined in the\n",
            "Government of India Act, 1935 (as originally enacted); and\n",
            "(b) (i) in the case where such person has so migrated before the nineteenth day of July, 1948, he\n",
            "has been ordinarily resident in the territory of India since the date of his migration, or\n",
            "(ii) in the case where such person has so migrated on or after the nineteenth day of July, 1948, he\n",
            "has been registered as a citizen of India by an officer appointed in that behalf by the Government of\n",
            "the Dominion of India on an application made by him therefor to such officer before the\n",
            "commencement of this Constitution in the form and manner prescribed by that Government:\n",
            "Provided that no person shall be so registered unless he has been resident in the territory of India\n",
            "for at least six months immediately preceding the date of his application. Rights of citizeship of certain migrants to Pakistan.—Notwithstanding anything in articles 5\n",
            "and 6, a person who has after the first day of March, 1947, migrated from the territory of India to the\n",
            "territory now included in Pakistan shall not be deemed to be a citizen of India:\n",
            "Provided that nothing in this article shall apply to a person who, after having so migrated to the\n",
            "territory now included in Pakistan, has returned to the territory of India under a permit for resettlement or\n",
            "permanent return issued by or under the authority of any law and every such person shall for the purposes\n",
            "of clause (b) of article 6 be deemed to have migrated to the territory of India after the nineteenth day of\n",
            "July, 1948. Rights of citizenship of certain persons of Indian origin residing outside India.—\n",
            "Notwithstanding anything in article 5, any person who or either of whose parents or any of whose grandparents was born in India as defined in the Government of India Act, 1935 (as originally enacted), and\n",
            "who is ordinarily residing in any country outside India as so defined shall be deemed to be a citizen of\n",
            "India if he has been registered as a citizen of India by the diplomatic or consular representative of India in\n",
            "the country where he is for the time being residing on an application made by him therefor to such\n",
            "diplomatic or consular representative, whether before or after the commencement of this Constitution, in\n",
            "the form and manner prescribed by the Government of the Dominion of India or the Government of India. Persons voluntarily acquiring citizenship of a foreign State not to be citizens.— No person\n",
            "shall be a citizen of India by virtue of article 5, or be deemed to be a citizen of India by virtue of article 6\n",
            "or article 8, if he has voluntarily acquired the citizenship of any foreign State. Continuance of the rights of citizenship.—Every person who is or is deemed to be a citizen of\n",
            "India under any of the foregoing provisions of this Part shall, subject to the provisions of any law that\n",
            "may be made by Parliament, continue to be such citizen. Definition.—In this Part, unless the context otherwise requires, ―the State‖ includes the\n",
            "Government and Parliament of India and the Government and the Legislature of each of the States and all\n",
            "local or other authorities within the territory of India or under the control of the Government of India. Laws inconsistent with or in derogation of the fundamental rights.—(1) All laws in force in\n",
            "the territory of India immediately before the commencement of this Constitution, in so far as they are\n",
            "inconsistent with the provisions of this Part, shall, to the extent of such inconsistency, be void. (2) The State shall not make any law which takes away or abridges the rights conferred by this Part\n",
            "and any law made in contravention of this clause shall, to the extent of the contravention, be void. (3) In this article, unless the context otherwise requires,—\n",
            "(a) ―law‖ includes any Ordinance, order, bye-law, rule, regulation, notification, custom or usage\n",
            "having in the territory of India the force of law;\n",
            "(b) ―laws in force‖ includes laws passed or made by a Legislature or other competent authority in\n",
            "the territory of India before the commencement of this Constitution and not previously repealed,\n",
            "notwithstanding that any such law or any part thereof may not be then in operation either at all or in\n",
            "particular areas. Prohibition of discrimination on grounds of religion, race, caste, sex or place of birth.—(1)\n",
            "The State shall not discriminate against any citizen on grounds only of religion, race, caste, sex, place of\n",
            "birth or any of them. (2) No citizen shall, on grounds only of religion, race, caste, sex, place of birth or any of them, be\n",
            "subject to any disability, liability, restriction or condition with regard to—\n",
            "(a) access to shops, public restaurants, hotels and places of public entertainment; or\n",
            "(b) the use of wells, tanks, bathing ghats, roads and places of public resort maintained wholly or\n",
            "partly out of State funds or dedicated to the use of the general public. (4) Nothing in this article or in clause (2) of article 29 shall prevent the State from making any special\n",
            "provision for the advancement of any socially and educationally backward classes of citizens or for the\n",
            "Scheduled Castes and the Scheduled Tribes. (5) Nothing in this article or in sub-clause (g) of clause (1) of article 19 shall prevent the State from\n",
            "making any special provision, by law, for the advancement of any socially and educationally backward\n",
            "classes of citizens or for the Scheduled Castes or the Scheduled Tribes in so far as such special provisions\n",
            "relate to their admission to educational institutions including private educational institutions, whether\n",
            "aided or unaided by the State, other than the minority educational institutions referred to in clause (1) of\n",
            "article 30.\n"
          ]
        }
      ]
    }
  ]
}